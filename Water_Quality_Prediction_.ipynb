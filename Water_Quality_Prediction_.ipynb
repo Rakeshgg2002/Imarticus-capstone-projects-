{
  "nbformat": 4,
  "nbformat_minor": 0,
  "metadata": {
    "colab": {
      "provenance": [],
      "toc_visible": true
    },
    "kernelspec": {
      "name": "python3",
      "display_name": "Python 3"
    },
    "language_info": {
      "name": "python"
    }
  },
  "cells": [
    {
      "cell_type": "markdown",
      "source": [
        "About dataset\n",
        "Content\n",
        "The water_potability.csv file contains water quality metrics for 3276 different water bodies.\n",
        "\n",
        "1. pH value: PH is an important parameter in evaluating the acid–base balance of water. It is also the indicator of acidic or alkaline condition of water status. WHO has recommended maximum permissible limit of pH from 6.5 to 8.5. The current investigation ranges were 6.52–6.83 which are in the range of WHO standards.\n",
        "\n",
        "2. Hardness: Hardness is mainly caused by calcium and magnesium salts. These salts are dissolved from geologic deposits through which water travels. The length of time water is in contact with hardness producing material helps determine how much hardness there is in raw water. Hardness was originally defined as the capacity of water to precipitate soap caused by Calcium and Magnesium.\n",
        "\n",
        "3. Solids (Total dissolved solids - TDS): Water has the ability to dissolve a wide range of inorganic and some organic minerals or salts such as potassium, calcium, sodium, bicarbonates, chlorides, magnesium, sulfates etc. These minerals produced un-wanted taste and diluted color in appearance of water. This is the important parameter for the use of water. The water with high TDS value indicates that water is highly mineralized. Desirable limit for TDS is 500 mg/l and maximum limit is 1000 mg/l which prescribed for drinking purpose.\n",
        "\n",
        "4. Chloramines: Chlorine and chloramine are the major disinfectants used in public water systems. Chloramines are most commonly formed when ammonia is added to chlorine to treat drinking water. Chlorine levels up to 4 milligrams per liter (mg/L or 4 parts per million (ppm)) are considered safe in drinking water.\n",
        "\n",
        "5. Sulfate: Sulfates are naturally occurring substances that are found in minerals, soil, and rocks. They are present in ambient air, groundwater, plants, and food. The principal commercial use of sulfate is in the chemical industry. Sulfate concentration in seawater is about 2,700 milligrams per liter (mg/L). It ranges from 3 to 30 mg/L in most freshwater supplies, although much higher concentrations (1000 mg/L) are found in some geographic locations.\n",
        "\n",
        "6. Conductivity: Pure water is not a good conductor of electric current rather’s a good insulator. Increase in ions concentration enhances the electrical conductivity of water. Generally, the amount of dissolved solids in water determines the electrical conductivity. Electrical conductivity (EC) actually measures the ionic process of a solution that enables it to transmit current. According to WHO standards, EC value should not exceeded 400 μS/cm.\n",
        "\n",
        "7. Organic_carbon: Total Organic Carbon (TOC) in source waters comes from decaying natural organic matter (NOM) as well as synthetic sources. TOC is a measure of the total amount of carbon in organic compounds in pure water. According to US EPA < 2 mg/L as TOC in treated / drinking water, and < 4 mg/Lit in source water which is use for treatment.\n",
        "\n",
        "8. Trihalomethanes: THMs are chemicals which may be found in water treated with chlorine. The concentration of THMs in drinking water varies according to the level of organic material in the water, the amount of chlorine required to treat the water, and the temperature of the water that is being treated. THM levels up to 80 ppm is considered safe in drinking water.\n",
        "\n",
        "9. Turbidity: The turbidity of water depends on the quantity of solid matter present in the suspended state. It is a measure of light emitting properties of water and the test is used to indicate the quality of waste discharge with respect to colloidal matter. The mean turbidity value obtained for Wondo Genet Campus (0.98 NTU) is lower than the WHO recommended value of 5.00 NTU.\n",
        "\n",
        "10. Potability: Indicates if water is safe for human consumption where 1 means Potable and 0 means Not potable.\n",
        "\n"
      ],
      "metadata": {
        "id": "7K3mSmAE8M6A"
      }
    },
    {
      "cell_type": "markdown",
      "source": [
        "#IMPORT LIBARRIES"
      ],
      "metadata": {
        "id": "GVX6QvWm4l7k"
      }
    },
    {
      "cell_type": "code",
      "execution_count": null,
      "metadata": {
        "id": "Dj_YwKWABJbW"
      },
      "outputs": [],
      "source": [
        "import pandas as pd\n",
        "import numpy as np\n",
        "import matplotlib.pyplot as plt\n",
        "import seaborn as sns\n",
        "from sklearn.model_selection import train_test_split\n",
        "from imblearn.over_sampling import SMOTE\n",
        "from sklearn.tree import DecisionTreeClassifier\n",
        "from sklearn.linear_model import LogisticRegression\n",
        "from sklearn.metrics import accuracy_score, confusion_matrix, classification_report\n",
        "from sklearn.ensemble import RandomForestClassifier,GradientBoostingClassifier,AdaBoostClassifier\n",
        "from xgboost import XGBClassifier\n",
        "from sklearn.neighbors import KNeighborsClassifier\n",
        "from sklearn.naive_bayes import GaussianNB\n",
        "from sklearn.svm import SVC"
      ]
    },
    {
      "cell_type": "markdown",
      "source": [
        "#IMPORT DATA SET"
      ],
      "metadata": {
        "id": "gSCW7LbF43pp"
      }
    },
    {
      "cell_type": "code",
      "source": [
        "df=pd.read_csv('/content/water_potability.csv')"
      ],
      "metadata": {
        "id": "WG5w76V2Bln0"
      },
      "execution_count": null,
      "outputs": []
    },
    {
      "cell_type": "markdown",
      "source": [],
      "metadata": {
        "id": "N3J7WlrM5uIf"
      }
    },
    {
      "cell_type": "markdown",
      "source": [
        "#Data Prepatation and Data transformation"
      ],
      "metadata": {
        "id": "iYQfGmdh8TyA"
      }
    },
    {
      "cell_type": "markdown",
      "source": [
        "Information about the data set"
      ],
      "metadata": {
        "id": "uWHNuiw58YdX"
      }
    },
    {
      "cell_type": "code",
      "source": [
        "df.info()"
      ],
      "metadata": {
        "colab": {
          "base_uri": "https://localhost:8080/"
        },
        "id": "Gj1_mkDZBuK2",
        "outputId": "52f39019-30ae-4be7-ec2d-b5d8cf304c27"
      },
      "execution_count": null,
      "outputs": [
        {
          "output_type": "stream",
          "name": "stdout",
          "text": [
            "<class 'pandas.core.frame.DataFrame'>\n",
            "RangeIndex: 3276 entries, 0 to 3275\n",
            "Data columns (total 10 columns):\n",
            " #   Column           Non-Null Count  Dtype  \n",
            "---  ------           --------------  -----  \n",
            " 0   ph               2785 non-null   float64\n",
            " 1   Hardness         3276 non-null   float64\n",
            " 2   Solids           3276 non-null   float64\n",
            " 3   Chloramines      3276 non-null   float64\n",
            " 4   Sulfate          2495 non-null   float64\n",
            " 5   Conductivity     3276 non-null   float64\n",
            " 6   Organic_carbon   3276 non-null   float64\n",
            " 7   Trihalomethanes  3114 non-null   float64\n",
            " 8   Turbidity        3276 non-null   float64\n",
            " 9   Potability       3276 non-null   int64  \n",
            "dtypes: float64(9), int64(1)\n",
            "memory usage: 256.1 KB\n"
          ]
        }
      ]
    },
    {
      "cell_type": "code",
      "source": [
        "df.head()"
      ],
      "metadata": {
        "colab": {
          "base_uri": "https://localhost:8080/",
          "height": 206
        },
        "id": "HwlivDWxB1Kt",
        "outputId": "a95574db-43e1-4c75-b64a-0da2fa09efa3"
      },
      "execution_count": null,
      "outputs": [
        {
          "output_type": "execute_result",
          "data": {
            "text/plain": [
              "         ph    Hardness        Solids  Chloramines     Sulfate  Conductivity  \\\n",
              "0       NaN  204.890455  20791.318981     7.300212  368.516441    564.308654   \n",
              "1  3.716080  129.422921  18630.057858     6.635246         NaN    592.885359   \n",
              "2  8.099124  224.236259  19909.541732     9.275884         NaN    418.606213   \n",
              "3  8.316766  214.373394  22018.417441     8.059332  356.886136    363.266516   \n",
              "4  9.092223  181.101509  17978.986339     6.546600  310.135738    398.410813   \n",
              "\n",
              "   Organic_carbon  Trihalomethanes  Turbidity  Potability  \n",
              "0       10.379783        86.990970   2.963135           0  \n",
              "1       15.180013        56.329076   4.500656           0  \n",
              "2       16.868637        66.420093   3.055934           0  \n",
              "3       18.436524       100.341674   4.628771           0  \n",
              "4       11.558279        31.997993   4.075075           0  "
            ],
            "text/html": [
              "\n",
              "  <div id=\"df-26a55083-3acd-4040-be2c-3c4542998579\">\n",
              "    <div class=\"colab-df-container\">\n",
              "      <div>\n",
              "<style scoped>\n",
              "    .dataframe tbody tr th:only-of-type {\n",
              "        vertical-align: middle;\n",
              "    }\n",
              "\n",
              "    .dataframe tbody tr th {\n",
              "        vertical-align: top;\n",
              "    }\n",
              "\n",
              "    .dataframe thead th {\n",
              "        text-align: right;\n",
              "    }\n",
              "</style>\n",
              "<table border=\"1\" class=\"dataframe\">\n",
              "  <thead>\n",
              "    <tr style=\"text-align: right;\">\n",
              "      <th></th>\n",
              "      <th>ph</th>\n",
              "      <th>Hardness</th>\n",
              "      <th>Solids</th>\n",
              "      <th>Chloramines</th>\n",
              "      <th>Sulfate</th>\n",
              "      <th>Conductivity</th>\n",
              "      <th>Organic_carbon</th>\n",
              "      <th>Trihalomethanes</th>\n",
              "      <th>Turbidity</th>\n",
              "      <th>Potability</th>\n",
              "    </tr>\n",
              "  </thead>\n",
              "  <tbody>\n",
              "    <tr>\n",
              "      <th>0</th>\n",
              "      <td>NaN</td>\n",
              "      <td>204.890455</td>\n",
              "      <td>20791.318981</td>\n",
              "      <td>7.300212</td>\n",
              "      <td>368.516441</td>\n",
              "      <td>564.308654</td>\n",
              "      <td>10.379783</td>\n",
              "      <td>86.990970</td>\n",
              "      <td>2.963135</td>\n",
              "      <td>0</td>\n",
              "    </tr>\n",
              "    <tr>\n",
              "      <th>1</th>\n",
              "      <td>3.716080</td>\n",
              "      <td>129.422921</td>\n",
              "      <td>18630.057858</td>\n",
              "      <td>6.635246</td>\n",
              "      <td>NaN</td>\n",
              "      <td>592.885359</td>\n",
              "      <td>15.180013</td>\n",
              "      <td>56.329076</td>\n",
              "      <td>4.500656</td>\n",
              "      <td>0</td>\n",
              "    </tr>\n",
              "    <tr>\n",
              "      <th>2</th>\n",
              "      <td>8.099124</td>\n",
              "      <td>224.236259</td>\n",
              "      <td>19909.541732</td>\n",
              "      <td>9.275884</td>\n",
              "      <td>NaN</td>\n",
              "      <td>418.606213</td>\n",
              "      <td>16.868637</td>\n",
              "      <td>66.420093</td>\n",
              "      <td>3.055934</td>\n",
              "      <td>0</td>\n",
              "    </tr>\n",
              "    <tr>\n",
              "      <th>3</th>\n",
              "      <td>8.316766</td>\n",
              "      <td>214.373394</td>\n",
              "      <td>22018.417441</td>\n",
              "      <td>8.059332</td>\n",
              "      <td>356.886136</td>\n",
              "      <td>363.266516</td>\n",
              "      <td>18.436524</td>\n",
              "      <td>100.341674</td>\n",
              "      <td>4.628771</td>\n",
              "      <td>0</td>\n",
              "    </tr>\n",
              "    <tr>\n",
              "      <th>4</th>\n",
              "      <td>9.092223</td>\n",
              "      <td>181.101509</td>\n",
              "      <td>17978.986339</td>\n",
              "      <td>6.546600</td>\n",
              "      <td>310.135738</td>\n",
              "      <td>398.410813</td>\n",
              "      <td>11.558279</td>\n",
              "      <td>31.997993</td>\n",
              "      <td>4.075075</td>\n",
              "      <td>0</td>\n",
              "    </tr>\n",
              "  </tbody>\n",
              "</table>\n",
              "</div>\n",
              "      <button class=\"colab-df-convert\" onclick=\"convertToInteractive('df-26a55083-3acd-4040-be2c-3c4542998579')\"\n",
              "              title=\"Convert this dataframe to an interactive table.\"\n",
              "              style=\"display:none;\">\n",
              "        \n",
              "  <svg xmlns=\"http://www.w3.org/2000/svg\" height=\"24px\"viewBox=\"0 0 24 24\"\n",
              "       width=\"24px\">\n",
              "    <path d=\"M0 0h24v24H0V0z\" fill=\"none\"/>\n",
              "    <path d=\"M18.56 5.44l.94 2.06.94-2.06 2.06-.94-2.06-.94-.94-2.06-.94 2.06-2.06.94zm-11 1L8.5 8.5l.94-2.06 2.06-.94-2.06-.94L8.5 2.5l-.94 2.06-2.06.94zm10 10l.94 2.06.94-2.06 2.06-.94-2.06-.94-.94-2.06-.94 2.06-2.06.94z\"/><path d=\"M17.41 7.96l-1.37-1.37c-.4-.4-.92-.59-1.43-.59-.52 0-1.04.2-1.43.59L10.3 9.45l-7.72 7.72c-.78.78-.78 2.05 0 2.83L4 21.41c.39.39.9.59 1.41.59.51 0 1.02-.2 1.41-.59l7.78-7.78 2.81-2.81c.8-.78.8-2.07 0-2.86zM5.41 20L4 18.59l7.72-7.72 1.47 1.35L5.41 20z\"/>\n",
              "  </svg>\n",
              "      </button>\n",
              "      \n",
              "  <style>\n",
              "    .colab-df-container {\n",
              "      display:flex;\n",
              "      flex-wrap:wrap;\n",
              "      gap: 12px;\n",
              "    }\n",
              "\n",
              "    .colab-df-convert {\n",
              "      background-color: #E8F0FE;\n",
              "      border: none;\n",
              "      border-radius: 50%;\n",
              "      cursor: pointer;\n",
              "      display: none;\n",
              "      fill: #1967D2;\n",
              "      height: 32px;\n",
              "      padding: 0 0 0 0;\n",
              "      width: 32px;\n",
              "    }\n",
              "\n",
              "    .colab-df-convert:hover {\n",
              "      background-color: #E2EBFA;\n",
              "      box-shadow: 0px 1px 2px rgba(60, 64, 67, 0.3), 0px 1px 3px 1px rgba(60, 64, 67, 0.15);\n",
              "      fill: #174EA6;\n",
              "    }\n",
              "\n",
              "    [theme=dark] .colab-df-convert {\n",
              "      background-color: #3B4455;\n",
              "      fill: #D2E3FC;\n",
              "    }\n",
              "\n",
              "    [theme=dark] .colab-df-convert:hover {\n",
              "      background-color: #434B5C;\n",
              "      box-shadow: 0px 1px 3px 1px rgba(0, 0, 0, 0.15);\n",
              "      filter: drop-shadow(0px 1px 2px rgba(0, 0, 0, 0.3));\n",
              "      fill: #FFFFFF;\n",
              "    }\n",
              "  </style>\n",
              "\n",
              "      <script>\n",
              "        const buttonEl =\n",
              "          document.querySelector('#df-26a55083-3acd-4040-be2c-3c4542998579 button.colab-df-convert');\n",
              "        buttonEl.style.display =\n",
              "          google.colab.kernel.accessAllowed ? 'block' : 'none';\n",
              "\n",
              "        async function convertToInteractive(key) {\n",
              "          const element = document.querySelector('#df-26a55083-3acd-4040-be2c-3c4542998579');\n",
              "          const dataTable =\n",
              "            await google.colab.kernel.invokeFunction('convertToInteractive',\n",
              "                                                     [key], {});\n",
              "          if (!dataTable) return;\n",
              "\n",
              "          const docLinkHtml = 'Like what you see? Visit the ' +\n",
              "            '<a target=\"_blank\" href=https://colab.research.google.com/notebooks/data_table.ipynb>data table notebook</a>'\n",
              "            + ' to learn more about interactive tables.';\n",
              "          element.innerHTML = '';\n",
              "          dataTable['output_type'] = 'display_data';\n",
              "          await google.colab.output.renderOutput(dataTable, element);\n",
              "          const docLink = document.createElement('div');\n",
              "          docLink.innerHTML = docLinkHtml;\n",
              "          element.appendChild(docLink);\n",
              "        }\n",
              "      </script>\n",
              "    </div>\n",
              "  </div>\n",
              "  "
            ]
          },
          "metadata": {},
          "execution_count": 959
        }
      ]
    },
    {
      "cell_type": "markdown",
      "source": [
        "Check for Null Values"
      ],
      "metadata": {
        "id": "Cd6xurcK8g8D"
      }
    },
    {
      "cell_type": "code",
      "source": [
        "df.isnull().sum()"
      ],
      "metadata": {
        "colab": {
          "base_uri": "https://localhost:8080/"
        },
        "id": "teXTBvDdB8jL",
        "outputId": "fa30a193-29e4-496e-e383-b8165e45be3a"
      },
      "execution_count": null,
      "outputs": [
        {
          "output_type": "execute_result",
          "data": {
            "text/plain": [
              "ph                 491\n",
              "Hardness             0\n",
              "Solids               0\n",
              "Chloramines          0\n",
              "Sulfate            781\n",
              "Conductivity         0\n",
              "Organic_carbon       0\n",
              "Trihalomethanes    162\n",
              "Turbidity            0\n",
              "Potability           0\n",
              "dtype: int64"
            ]
          },
          "metadata": {},
          "execution_count": 960
        }
      ]
    },
    {
      "cell_type": "markdown",
      "source": [
        "ph,Sulfate,Trihalomethanes having Null values"
      ],
      "metadata": {
        "id": "uQkDIbMJ8mqt"
      }
    },
    {
      "cell_type": "markdown",
      "source": [
        "Filling the Null values using fillna function and replaced the missing values with the mean value of the column"
      ],
      "metadata": {
        "id": "xfhAyjfy8w6J"
      }
    },
    {
      "cell_type": "code",
      "source": [
        "df['ph'].fillna(value=df['ph'].mean(axis=0),inplace=True)"
      ],
      "metadata": {
        "id": "4osrNM9SL05Z"
      },
      "execution_count": null,
      "outputs": []
    },
    {
      "cell_type": "code",
      "source": [
        "df['Sulfate'].fillna(value=df['Sulfate'].mean(axis=0),inplace=True)"
      ],
      "metadata": {
        "id": "i8K06YuOMChe"
      },
      "execution_count": null,
      "outputs": []
    },
    {
      "cell_type": "code",
      "source": [
        "df['Trihalomethanes'].fillna(value=df['Trihalomethanes'].mean(axis=0),inplace=True)"
      ],
      "metadata": {
        "id": "uEqr6h14MTVU"
      },
      "execution_count": null,
      "outputs": []
    },
    {
      "cell_type": "code",
      "source": [
        "df.isnull().sum()"
      ],
      "metadata": {
        "colab": {
          "base_uri": "https://localhost:8080/"
        },
        "id": "zwxLYvnEMe5k",
        "outputId": "fa01e178-f43c-4eef-8f10-05e4147208ee"
      },
      "execution_count": null,
      "outputs": [
        {
          "output_type": "execute_result",
          "data": {
            "text/plain": [
              "ph                 0\n",
              "Hardness           0\n",
              "Solids             0\n",
              "Chloramines        0\n",
              "Sulfate            0\n",
              "Conductivity       0\n",
              "Organic_carbon     0\n",
              "Trihalomethanes    0\n",
              "Turbidity          0\n",
              "Potability         0\n",
              "dtype: int64"
            ]
          },
          "metadata": {},
          "execution_count": 964
        }
      ]
    },
    {
      "cell_type": "code",
      "source": [
        "df.skew()"
      ],
      "metadata": {
        "colab": {
          "base_uri": "https://localhost:8080/"
        },
        "id": "gF8oPyVJNCQv",
        "outputId": "5c464f09-2d00-4dbf-fd2b-1d0f2c3083e0"
      },
      "execution_count": null,
      "outputs": [
        {
          "output_type": "execute_result",
          "data": {
            "text/plain": [
              "ph                 0.027796\n",
              "Hardness          -0.039342\n",
              "Solids             0.621634\n",
              "Chloramines       -0.012098\n",
              "Sulfate           -0.041184\n",
              "Conductivity       0.264490\n",
              "Organic_carbon     0.025533\n",
              "Trihalomethanes   -0.085161\n",
              "Turbidity         -0.007817\n",
              "Potability         0.450784\n",
              "dtype: float64"
            ]
          },
          "metadata": {},
          "execution_count": 965
        }
      ]
    },
    {
      "cell_type": "markdown",
      "source": [
        "Values between 0.5 to -0.5 will be considered as the normal distribution else will be skewed depending upon the skewness value"
      ],
      "metadata": {
        "id": "l4gR5S6QPvKW"
      }
    },
    {
      "cell_type": "markdown",
      "source": [
        "Check for Outlayers"
      ],
      "metadata": {
        "id": "xbfvcTwHP0BT"
      }
    },
    {
      "cell_type": "code",
      "source": [
        "df.describe()"
      ],
      "metadata": {
        "colab": {
          "base_uri": "https://localhost:8080/",
          "height": 300
        },
        "id": "cGP6w6c8MzFa",
        "outputId": "5c31898a-e4b5-41c2-fe07-ffe2e6ca56fc"
      },
      "execution_count": null,
      "outputs": [
        {
          "output_type": "execute_result",
          "data": {
            "text/plain": [
              "                ph     Hardness        Solids  Chloramines      Sulfate  \\\n",
              "count  3276.000000  3276.000000   3276.000000  3276.000000  3276.000000   \n",
              "mean      7.080795   196.369496  22014.092526     7.122277   333.775777   \n",
              "std       1.469956    32.879761   8768.570828     1.583085    36.142612   \n",
              "min       0.000000    47.432000    320.942611     0.352000   129.000000   \n",
              "25%       6.277673   176.850538  15666.690297     6.127421   317.094638   \n",
              "50%       7.080795   196.967627  20927.833607     7.130299   333.775777   \n",
              "75%       7.870050   216.667456  27332.762127     8.114887   350.385756   \n",
              "max      14.000000   323.124000  61227.196008    13.127000   481.030642   \n",
              "\n",
              "       Conductivity  Organic_carbon  Trihalomethanes    Turbidity   Potability  \n",
              "count   3276.000000     3276.000000      3276.000000  3276.000000  3276.000000  \n",
              "mean     426.205111       14.284970        66.396293     3.966786     0.390110  \n",
              "std       80.824064        3.308162        15.769881     0.780382     0.487849  \n",
              "min      181.483754        2.200000         0.738000     1.450000     0.000000  \n",
              "25%      365.734414       12.065801        56.647656     3.439711     0.000000  \n",
              "50%      421.884968       14.218338        66.396293     3.955028     0.000000  \n",
              "75%      481.792304       16.557652        76.666609     4.500320     1.000000  \n",
              "max      753.342620       28.300000       124.000000     6.739000     1.000000  "
            ],
            "text/html": [
              "\n",
              "  <div id=\"df-0986d962-cb02-4b1d-83d8-3066b572203b\">\n",
              "    <div class=\"colab-df-container\">\n",
              "      <div>\n",
              "<style scoped>\n",
              "    .dataframe tbody tr th:only-of-type {\n",
              "        vertical-align: middle;\n",
              "    }\n",
              "\n",
              "    .dataframe tbody tr th {\n",
              "        vertical-align: top;\n",
              "    }\n",
              "\n",
              "    .dataframe thead th {\n",
              "        text-align: right;\n",
              "    }\n",
              "</style>\n",
              "<table border=\"1\" class=\"dataframe\">\n",
              "  <thead>\n",
              "    <tr style=\"text-align: right;\">\n",
              "      <th></th>\n",
              "      <th>ph</th>\n",
              "      <th>Hardness</th>\n",
              "      <th>Solids</th>\n",
              "      <th>Chloramines</th>\n",
              "      <th>Sulfate</th>\n",
              "      <th>Conductivity</th>\n",
              "      <th>Organic_carbon</th>\n",
              "      <th>Trihalomethanes</th>\n",
              "      <th>Turbidity</th>\n",
              "      <th>Potability</th>\n",
              "    </tr>\n",
              "  </thead>\n",
              "  <tbody>\n",
              "    <tr>\n",
              "      <th>count</th>\n",
              "      <td>3276.000000</td>\n",
              "      <td>3276.000000</td>\n",
              "      <td>3276.000000</td>\n",
              "      <td>3276.000000</td>\n",
              "      <td>3276.000000</td>\n",
              "      <td>3276.000000</td>\n",
              "      <td>3276.000000</td>\n",
              "      <td>3276.000000</td>\n",
              "      <td>3276.000000</td>\n",
              "      <td>3276.000000</td>\n",
              "    </tr>\n",
              "    <tr>\n",
              "      <th>mean</th>\n",
              "      <td>7.080795</td>\n",
              "      <td>196.369496</td>\n",
              "      <td>22014.092526</td>\n",
              "      <td>7.122277</td>\n",
              "      <td>333.775777</td>\n",
              "      <td>426.205111</td>\n",
              "      <td>14.284970</td>\n",
              "      <td>66.396293</td>\n",
              "      <td>3.966786</td>\n",
              "      <td>0.390110</td>\n",
              "    </tr>\n",
              "    <tr>\n",
              "      <th>std</th>\n",
              "      <td>1.469956</td>\n",
              "      <td>32.879761</td>\n",
              "      <td>8768.570828</td>\n",
              "      <td>1.583085</td>\n",
              "      <td>36.142612</td>\n",
              "      <td>80.824064</td>\n",
              "      <td>3.308162</td>\n",
              "      <td>15.769881</td>\n",
              "      <td>0.780382</td>\n",
              "      <td>0.487849</td>\n",
              "    </tr>\n",
              "    <tr>\n",
              "      <th>min</th>\n",
              "      <td>0.000000</td>\n",
              "      <td>47.432000</td>\n",
              "      <td>320.942611</td>\n",
              "      <td>0.352000</td>\n",
              "      <td>129.000000</td>\n",
              "      <td>181.483754</td>\n",
              "      <td>2.200000</td>\n",
              "      <td>0.738000</td>\n",
              "      <td>1.450000</td>\n",
              "      <td>0.000000</td>\n",
              "    </tr>\n",
              "    <tr>\n",
              "      <th>25%</th>\n",
              "      <td>6.277673</td>\n",
              "      <td>176.850538</td>\n",
              "      <td>15666.690297</td>\n",
              "      <td>6.127421</td>\n",
              "      <td>317.094638</td>\n",
              "      <td>365.734414</td>\n",
              "      <td>12.065801</td>\n",
              "      <td>56.647656</td>\n",
              "      <td>3.439711</td>\n",
              "      <td>0.000000</td>\n",
              "    </tr>\n",
              "    <tr>\n",
              "      <th>50%</th>\n",
              "      <td>7.080795</td>\n",
              "      <td>196.967627</td>\n",
              "      <td>20927.833607</td>\n",
              "      <td>7.130299</td>\n",
              "      <td>333.775777</td>\n",
              "      <td>421.884968</td>\n",
              "      <td>14.218338</td>\n",
              "      <td>66.396293</td>\n",
              "      <td>3.955028</td>\n",
              "      <td>0.000000</td>\n",
              "    </tr>\n",
              "    <tr>\n",
              "      <th>75%</th>\n",
              "      <td>7.870050</td>\n",
              "      <td>216.667456</td>\n",
              "      <td>27332.762127</td>\n",
              "      <td>8.114887</td>\n",
              "      <td>350.385756</td>\n",
              "      <td>481.792304</td>\n",
              "      <td>16.557652</td>\n",
              "      <td>76.666609</td>\n",
              "      <td>4.500320</td>\n",
              "      <td>1.000000</td>\n",
              "    </tr>\n",
              "    <tr>\n",
              "      <th>max</th>\n",
              "      <td>14.000000</td>\n",
              "      <td>323.124000</td>\n",
              "      <td>61227.196008</td>\n",
              "      <td>13.127000</td>\n",
              "      <td>481.030642</td>\n",
              "      <td>753.342620</td>\n",
              "      <td>28.300000</td>\n",
              "      <td>124.000000</td>\n",
              "      <td>6.739000</td>\n",
              "      <td>1.000000</td>\n",
              "    </tr>\n",
              "  </tbody>\n",
              "</table>\n",
              "</div>\n",
              "      <button class=\"colab-df-convert\" onclick=\"convertToInteractive('df-0986d962-cb02-4b1d-83d8-3066b572203b')\"\n",
              "              title=\"Convert this dataframe to an interactive table.\"\n",
              "              style=\"display:none;\">\n",
              "        \n",
              "  <svg xmlns=\"http://www.w3.org/2000/svg\" height=\"24px\"viewBox=\"0 0 24 24\"\n",
              "       width=\"24px\">\n",
              "    <path d=\"M0 0h24v24H0V0z\" fill=\"none\"/>\n",
              "    <path d=\"M18.56 5.44l.94 2.06.94-2.06 2.06-.94-2.06-.94-.94-2.06-.94 2.06-2.06.94zm-11 1L8.5 8.5l.94-2.06 2.06-.94-2.06-.94L8.5 2.5l-.94 2.06-2.06.94zm10 10l.94 2.06.94-2.06 2.06-.94-2.06-.94-.94-2.06-.94 2.06-2.06.94z\"/><path d=\"M17.41 7.96l-1.37-1.37c-.4-.4-.92-.59-1.43-.59-.52 0-1.04.2-1.43.59L10.3 9.45l-7.72 7.72c-.78.78-.78 2.05 0 2.83L4 21.41c.39.39.9.59 1.41.59.51 0 1.02-.2 1.41-.59l7.78-7.78 2.81-2.81c.8-.78.8-2.07 0-2.86zM5.41 20L4 18.59l7.72-7.72 1.47 1.35L5.41 20z\"/>\n",
              "  </svg>\n",
              "      </button>\n",
              "      \n",
              "  <style>\n",
              "    .colab-df-container {\n",
              "      display:flex;\n",
              "      flex-wrap:wrap;\n",
              "      gap: 12px;\n",
              "    }\n",
              "\n",
              "    .colab-df-convert {\n",
              "      background-color: #E8F0FE;\n",
              "      border: none;\n",
              "      border-radius: 50%;\n",
              "      cursor: pointer;\n",
              "      display: none;\n",
              "      fill: #1967D2;\n",
              "      height: 32px;\n",
              "      padding: 0 0 0 0;\n",
              "      width: 32px;\n",
              "    }\n",
              "\n",
              "    .colab-df-convert:hover {\n",
              "      background-color: #E2EBFA;\n",
              "      box-shadow: 0px 1px 2px rgba(60, 64, 67, 0.3), 0px 1px 3px 1px rgba(60, 64, 67, 0.15);\n",
              "      fill: #174EA6;\n",
              "    }\n",
              "\n",
              "    [theme=dark] .colab-df-convert {\n",
              "      background-color: #3B4455;\n",
              "      fill: #D2E3FC;\n",
              "    }\n",
              "\n",
              "    [theme=dark] .colab-df-convert:hover {\n",
              "      background-color: #434B5C;\n",
              "      box-shadow: 0px 1px 3px 1px rgba(0, 0, 0, 0.15);\n",
              "      filter: drop-shadow(0px 1px 2px rgba(0, 0, 0, 0.3));\n",
              "      fill: #FFFFFF;\n",
              "    }\n",
              "  </style>\n",
              "\n",
              "      <script>\n",
              "        const buttonEl =\n",
              "          document.querySelector('#df-0986d962-cb02-4b1d-83d8-3066b572203b button.colab-df-convert');\n",
              "        buttonEl.style.display =\n",
              "          google.colab.kernel.accessAllowed ? 'block' : 'none';\n",
              "\n",
              "        async function convertToInteractive(key) {\n",
              "          const element = document.querySelector('#df-0986d962-cb02-4b1d-83d8-3066b572203b');\n",
              "          const dataTable =\n",
              "            await google.colab.kernel.invokeFunction('convertToInteractive',\n",
              "                                                     [key], {});\n",
              "          if (!dataTable) return;\n",
              "\n",
              "          const docLinkHtml = 'Like what you see? Visit the ' +\n",
              "            '<a target=\"_blank\" href=https://colab.research.google.com/notebooks/data_table.ipynb>data table notebook</a>'\n",
              "            + ' to learn more about interactive tables.';\n",
              "          element.innerHTML = '';\n",
              "          dataTable['output_type'] = 'display_data';\n",
              "          await google.colab.output.renderOutput(dataTable, element);\n",
              "          const docLink = document.createElement('div');\n",
              "          docLink.innerHTML = docLinkHtml;\n",
              "          element.appendChild(docLink);\n",
              "        }\n",
              "      </script>\n",
              "    </div>\n",
              "  </div>\n",
              "  "
            ]
          },
          "metadata": {},
          "execution_count": 966
        }
      ]
    },
    {
      "cell_type": "markdown",
      "source": [
        " Use boxplot to check outliers"
      ],
      "metadata": {
        "id": "yl8gAKKwQdcX"
      }
    },
    {
      "cell_type": "code",
      "source": [
        "plt.boxplot(df['Solids'])"
      ],
      "metadata": {
        "colab": {
          "base_uri": "https://localhost:8080/",
          "height": 569
        },
        "id": "c-G95vJVn7wg",
        "outputId": "37385e21-ae07-422d-ffc1-d24aee23c687"
      },
      "execution_count": null,
      "outputs": [
        {
          "output_type": "execute_result",
          "data": {
            "text/plain": [
              "{'whiskers': [<matplotlib.lines.Line2D at 0x7f0085ce2970>,\n",
              "  <matplotlib.lines.Line2D at 0x7f0085ce2c10>],\n",
              " 'caps': [<matplotlib.lines.Line2D at 0x7f0085ce2eb0>,\n",
              "  <matplotlib.lines.Line2D at 0x7f0085cef190>],\n",
              " 'boxes': [<matplotlib.lines.Line2D at 0x7f0085ce26d0>],\n",
              " 'medians': [<matplotlib.lines.Line2D at 0x7f0085cef430>],\n",
              " 'fliers': [<matplotlib.lines.Line2D at 0x7f0085cef6d0>],\n",
              " 'means': []}"
            ]
          },
          "metadata": {},
          "execution_count": 967
        },
        {
          "output_type": "display_data",
          "data": {
            "text/plain": [
              "<Figure size 640x480 with 1 Axes>"
            ],
            "image/png": "[encoded data removed]"
          },
          "metadata": {}
        }
      ]
    },
    {
      "cell_type": "code",
      "source": [
        "plt.boxplot(df['Trihalomethanes'])"
      ],
      "metadata": {
        "colab": {
          "base_uri": "https://localhost:8080/",
          "height": 569
        },
        "id": "cNwF3PCGopPr",
        "outputId": "c527a8bb-8b1f-498b-f012-cc87dbd3084c"
      },
      "execution_count": null,
      "outputs": [
        {
          "output_type": "execute_result",
          "data": {
            "text/plain": [
              "{'whiskers': [<matplotlib.lines.Line2D at 0x7f0085c585b0>,\n",
              "  <matplotlib.lines.Line2D at 0x7f0085c58850>],\n",
              " 'caps': [<matplotlib.lines.Line2D at 0x7f0085c58af0>,\n",
              "  <matplotlib.lines.Line2D at 0x7f0085c58d90>],\n",
              " 'boxes': [<matplotlib.lines.Line2D at 0x7f0085cc91f0>],\n",
              " 'medians': [<matplotlib.lines.Line2D at 0x7f0085c66070>],\n",
              " 'fliers': [<matplotlib.lines.Line2D at 0x7f0085c66310>],\n",
              " 'means': []}"
            ]
          },
          "metadata": {},
          "execution_count": 968
        },
        {
          "output_type": "display_data",
          "data": {
            "text/plain": [
              "<Figure size 640x480 with 1 Axes>"
            ],
            "image/png": "[encoded data removed]"
          },
          "metadata": {}
        }
      ]
    },
    {
      "cell_type": "markdown",
      "source": [
        "To Remove Outlayers"
      ],
      "metadata": {
        "id": "nkr9Z9y8pAJ9"
      }
    },
    {
      "cell_type": "markdown",
      "source": [],
      "metadata": {
        "id": "mRPWHXEYo_1n"
      }
    },
    {
      "cell_type": "code",
      "source": [
        "Q1 = df['Solids'].quantile(0.25)\n",
        "Q3 = df['Solids'].quantile(0.75)\n",
        "IQR = Q3 - Q1\n",
        "filt = (df['Solids'] >= Q1 - 1.5*IQR) & (df['Solids']<= Q3 + 1.5*IQR)\n",
        "filtered = df.loc[filt]\n",
        "\n",
        "plt.boxplot(filtered['Solids'])\n",
        "plt.show()"
      ],
      "metadata": {
        "colab": {
          "base_uri": "https://localhost:8080/",
          "height": 430
        },
        "id": "jhWQpmdvo3eZ",
        "outputId": "70cb421b-6f9a-4ca9-ed7f-6796361aa50c"
      },
      "execution_count": null,
      "outputs": [
        {
          "output_type": "display_data",
          "data": {
            "text/plain": [
              "<Figure size 640x480 with 1 Axes>"
            ],
            "image/png": "[encoded data removed]"
          },
          "metadata": {}
        }
      ]
    },
    {
      "cell_type": "code",
      "source": [
        "Q1 = df['Trihalomethanes'].quantile(0.25)\n",
        "Q3 = df['Trihalomethanes'].quantile(0.75)\n",
        "IQR = Q3 - Q1\n",
        "filt = (df['Trihalomethanes'] >= Q1 - 1.5*IQR) & (df['Trihalomethanes']<= Q3 + 1.5*IQR)\n",
        "filtered = df.loc[filt]\n",
        "\n",
        "plt.boxplot(filtered['Trihalomethanes'])\n",
        "plt.show()"
      ],
      "metadata": {
        "colab": {
          "base_uri": "https://localhost:8080/",
          "height": 434
        },
        "id": "26sU0n7VpbV5",
        "outputId": "bd6ea134-1e5a-49fd-bfd1-dbfce96cfeda"
      },
      "execution_count": null,
      "outputs": [
        {
          "output_type": "display_data",
          "data": {
            "text/plain": [
              "<Figure size 640x480 with 1 Axes>"
            ],
            "image/png": "[encoded data removed]"
          },
          "metadata": {}
        }
      ]
    },
    {
      "cell_type": "code",
      "source": [
        "corr = df.corr()\n",
        "plt.figure(figsize=(10,7))\n",
        "sns.heatmap(corr, annot=True)"
      ],
      "metadata": {
        "colab": {
          "base_uri": "https://localhost:8080/",
          "height": 723
        },
        "id": "oo5EnZkKKOEU",
        "outputId": "3f60b48e-9dbb-4661-f772-381a151d4b35"
      },
      "execution_count": null,
      "outputs": [
        {
          "output_type": "execute_result",
          "data": {
            "text/plain": [
              "<Axes: >"
            ]
          },
          "metadata": {},
          "execution_count": 971
        },
        {
          "output_type": "display_data",
          "data": {
            "text/plain": [
              "<Figure size 1000x700 with 2 Axes>"
            ],
            "image/png": "[encoded data removed]"
          },
          "metadata": {}
        }
      ]
    },
    {
      "cell_type": "code",
      "source": [
        "df['Potability'].value_counts().plot(kind='bar')"
      ],
      "metadata": {
        "colab": {
          "base_uri": "https://localhost:8080/",
          "height": 442
        },
        "id": "x9odi0eRLLJ6",
        "outputId": "b0abefae-609c-4f3c-df8a-20f81ddba8a1"
      },
      "execution_count": null,
      "outputs": [
        {
          "output_type": "execute_result",
          "data": {
            "text/plain": [
              "<Axes: >"
            ]
          },
          "metadata": {},
          "execution_count": 972
        },
        {
          "output_type": "display_data",
          "data": {
            "text/plain": [
              "<Figure size 640x480 with 1 Axes>"
            ],
            "image/png": "[encoded data removed]"
          },
          "metadata": {}
        }
      ]
    },
    {
      "cell_type": "code",
      "source": [
        "X = df.drop('Potability', axis=1)\n",
        "y = df['Potability'] \n",
        "smote = SMOTE(random_state=42)\n",
        "X_smote,Y_smote = smote.fit_resample(X, y)"
      ],
      "metadata": {
        "id": "Dr4fxFopLVjr"
      },
      "execution_count": null,
      "outputs": []
    },
    {
      "cell_type": "code",
      "source": [
        "Y_smote.value_counts()"
      ],
      "metadata": {
        "colab": {
          "base_uri": "https://localhost:8080/"
        },
        "id": "TIMQCpMwMSil",
        "outputId": "67d8bccc-1925-4a6a-9eef-f56fd425aba5"
      },
      "execution_count": null,
      "outputs": [
        {
          "output_type": "execute_result",
          "data": {
            "text/plain": [
              "0    1998\n",
              "1    1998\n",
              "Name: Potability, dtype: int64"
            ]
          },
          "metadata": {},
          "execution_count": 974
        }
      ]
    },
    {
      "cell_type": "code",
      "source": [
        "Y_smote.value_counts().plot(kind='bar')"
      ],
      "metadata": {
        "colab": {
          "base_uri": "https://localhost:8080/",
          "height": 442
        },
        "id": "rnRwwYPvNKqj",
        "outputId": "1c779ebe-f304-475c-e558-7f9225160066"
      },
      "execution_count": null,
      "outputs": [
        {
          "output_type": "execute_result",
          "data": {
            "text/plain": [
              "<Axes: >"
            ]
          },
          "metadata": {},
          "execution_count": 975
        },
        {
          "output_type": "display_data",
          "data": {
            "text/plain": [
              "<Figure size 640x480 with 1 Axes>"
            ],
            "image/png": "[encoded data removed]"
          },
          "metadata": {}
        }
      ]
    },
    {
      "cell_type": "markdown",
      "source": [
        "splitting data into Train data and Test data"
      ],
      "metadata": {
        "id": "qXM8PkAzPCe3"
      }
    },
    {
      "cell_type": "code",
      "source": [
        "X_train, X_test, y_train, y_test = train_test_split(X_smote, Y_smote, test_size=0.20, random_state=42)"
      ],
      "metadata": {
        "id": "pO-nXT2eNQPJ"
      },
      "execution_count": null,
      "outputs": []
    },
    {
      "cell_type": "code",
      "source": [
        "print( X_train.shape)\n",
        "print( X_test.shape)\n",
        "print( y_train.shape)\n",
        "print( y_test.shape)"
      ],
      "metadata": {
        "id": "66iCH9AjOhpl",
        "colab": {
          "base_uri": "https://localhost:8080/"
        },
        "outputId": "6312a086-ef84-4419-ffe1-cd782e387354"
      },
      "execution_count": null,
      "outputs": [
        {
          "output_type": "stream",
          "name": "stdout",
          "text": [
            "(3196, 9)\n",
            "(800, 9)\n",
            "(3196,)\n",
            "(800,)\n"
          ]
        }
      ]
    },
    {
      "cell_type": "markdown",
      "source": [
        "User defind function for Accuracy Report "
      ],
      "metadata": {
        "id": "sBAYPbojPM0d"
      }
    },
    {
      "cell_type": "code",
      "source": [
        "def acc_report(actual,predicted):\n",
        "  acc_score = accuracy_score(actual,predicted)\n",
        "  cm_matrix = confusion_matrix(actual,predicted)\n",
        "  class_rep = classification_report(actual,predicted)\n",
        "  print(\"The accuracy is \", round(acc_score,2))\n",
        "  print(cm_matrix)\n",
        "  print(class_rep)"
      ],
      "metadata": {
        "id": "7mJmSWmxOspR"
      },
      "execution_count": null,
      "outputs": []
    },
    {
      "cell_type": "markdown",
      "source": [
        "LogisticRegression"
      ],
      "metadata": {
        "id": "83CmAVybPbGj"
      }
    },
    {
      "cell_type": "code",
      "source": [
        "lr = LogisticRegression(max_iter=10000)\n",
        "lr.fit(X_train, y_train)\n",
        "pred_ytrain_lr = lr.predict(X_train)\n",
        "pred_ytest_lr = lr.predict(X_test) "
      ],
      "metadata": {
        "id": "RXVhjbjAPZYx"
      },
      "execution_count": null,
      "outputs": []
    },
    {
      "cell_type": "code",
      "source": [
        "acc_report(y_train,pred_ytrain_lr)"
      ],
      "metadata": {
        "id": "QAQTZO1ZPidm",
        "colab": {
          "base_uri": "https://localhost:8080/"
        },
        "outputId": "dfc833ac-d878-44b1-f926-8e315f92a6c0"
      },
      "execution_count": null,
      "outputs": [
        {
          "output_type": "stream",
          "name": "stdout",
          "text": [
            "The accuracy is  0.51\n",
            "[[876 728]\n",
            " [846 746]]\n",
            "              precision    recall  f1-score   support\n",
            "\n",
            "           0       0.51      0.55      0.53      1604\n",
            "           1       0.51      0.47      0.49      1592\n",
            "\n",
            "    accuracy                           0.51      3196\n",
            "   macro avg       0.51      0.51      0.51      3196\n",
            "weighted avg       0.51      0.51      0.51      3196\n",
            "\n"
          ]
        }
      ]
    },
    {
      "cell_type": "code",
      "source": [
        "acc_report(y_test,pred_ytest_lr)"
      ],
      "metadata": {
        "id": "zLz6QiGVPp1J",
        "colab": {
          "base_uri": "https://localhost:8080/"
        },
        "outputId": "a8b98790-36c4-4b5e-97a7-799ae4b17416"
      },
      "execution_count": null,
      "outputs": [
        {
          "output_type": "stream",
          "name": "stdout",
          "text": [
            "The accuracy is  0.51\n",
            "[[221 173]\n",
            " [218 188]]\n",
            "              precision    recall  f1-score   support\n",
            "\n",
            "           0       0.50      0.56      0.53       394\n",
            "           1       0.52      0.46      0.49       406\n",
            "\n",
            "    accuracy                           0.51       800\n",
            "   macro avg       0.51      0.51      0.51       800\n",
            "weighted avg       0.51      0.51      0.51       800\n",
            "\n"
          ]
        }
      ]
    },
    {
      "cell_type": "markdown",
      "source": [
        "Logistic Regression model performed  with high bias and low variance"
      ],
      "metadata": {
        "id": "8ah2h8yKj9lD"
      }
    },
    {
      "cell_type": "markdown",
      "source": [
        "Random Forest Classifier"
      ],
      "metadata": {
        "id": "a5ucqu-oAy5u"
      }
    },
    {
      "cell_type": "code",
      "source": [
        "rf = RandomForestClassifier(n_estimators =6,max_depth=4)\n",
        "rf.fit(X_train,y_train)\n",
        "preds_train_rf = rf.predict(X_train)\n",
        "preds_test_rf = rf.predict(X_test)"
      ],
      "metadata": {
        "id": "9zLEUmiARWYC"
      },
      "execution_count": null,
      "outputs": []
    },
    {
      "cell_type": "code",
      "source": [
        "acc_report(y_train,preds_train_rf)"
      ],
      "metadata": {
        "id": "2DCrIXhsRgqC",
        "colab": {
          "base_uri": "https://localhost:8080/"
        },
        "outputId": "826c23b1-ab80-4e4f-ffbd-0814f7a4cd17"
      },
      "execution_count": null,
      "outputs": [
        {
          "output_type": "stream",
          "name": "stdout",
          "text": [
            "The accuracy is  0.64\n",
            "[[1089  515]\n",
            " [ 626  966]]\n",
            "              precision    recall  f1-score   support\n",
            "\n",
            "           0       0.63      0.68      0.66      1604\n",
            "           1       0.65      0.61      0.63      1592\n",
            "\n",
            "    accuracy                           0.64      3196\n",
            "   macro avg       0.64      0.64      0.64      3196\n",
            "weighted avg       0.64      0.64      0.64      3196\n",
            "\n"
          ]
        }
      ]
    },
    {
      "cell_type": "code",
      "source": [
        "acc_report(y_test,preds_test_rf)"
      ],
      "metadata": {
        "id": "aoB37xFgu39P",
        "colab": {
          "base_uri": "https://localhost:8080/"
        },
        "outputId": "aa464b27-fd43-40dd-f7c4-3bb0720b42bc"
      },
      "execution_count": null,
      "outputs": [
        {
          "output_type": "stream",
          "name": "stdout",
          "text": [
            "The accuracy is  0.57\n",
            "[[251 143]\n",
            " [201 205]]\n",
            "              precision    recall  f1-score   support\n",
            "\n",
            "           0       0.56      0.64      0.59       394\n",
            "           1       0.59      0.50      0.54       406\n",
            "\n",
            "    accuracy                           0.57       800\n",
            "   macro avg       0.57      0.57      0.57       800\n",
            "weighted avg       0.57      0.57      0.57       800\n",
            "\n"
          ]
        }
      ]
    },
    {
      "cell_type": "markdown",
      "source": [
        "Random Forest model performed  with high bias and low variance"
      ],
      "metadata": {
        "id": "dKXzBpEorijo"
      }
    },
    {
      "cell_type": "markdown",
      "source": [
        "Decision Tree Classifier"
      ],
      "metadata": {
        "id": "z8rKuqyNAmRm"
      }
    },
    {
      "cell_type": "code",
      "source": [
        "dtree = DecisionTreeClassifier(max_depth =4,min_samples_split = 4)\n",
        "dtree.fit(X_train,y_train)\n",
        "preds_train_dt = dtree.predict(X_train)\n",
        "preds_test_dt = dtree.predict(X_test)"
      ],
      "metadata": {
        "id": "4F2U4MrOvqWR"
      },
      "execution_count": null,
      "outputs": []
    },
    {
      "cell_type": "code",
      "source": [
        "acc_report(y_train,preds_train_dt)"
      ],
      "metadata": {
        "id": "6x755KNiwPID",
        "colab": {
          "base_uri": "https://localhost:8080/"
        },
        "outputId": "4b085411-f9ef-4d25-c523-505595097ada"
      },
      "execution_count": null,
      "outputs": [
        {
          "output_type": "stream",
          "name": "stdout",
          "text": [
            "The accuracy is  0.61\n",
            "[[1192  412]\n",
            " [ 840  752]]\n",
            "              precision    recall  f1-score   support\n",
            "\n",
            "           0       0.59      0.74      0.66      1604\n",
            "           1       0.65      0.47      0.55      1592\n",
            "\n",
            "    accuracy                           0.61      3196\n",
            "   macro avg       0.62      0.61      0.60      3196\n",
            "weighted avg       0.62      0.61      0.60      3196\n",
            "\n"
          ]
        }
      ]
    },
    {
      "cell_type": "code",
      "source": [
        "acc_report(y_test,preds_test_dt)"
      ],
      "metadata": {
        "id": "r96cptnDvxf6",
        "colab": {
          "base_uri": "https://localhost:8080/"
        },
        "outputId": "3868024d-e640-46d8-f7b7-112c1dacb290"
      },
      "execution_count": null,
      "outputs": [
        {
          "output_type": "stream",
          "name": "stdout",
          "text": [
            "The accuracy is  0.56\n",
            "[[279 115]\n",
            " [239 167]]\n",
            "              precision    recall  f1-score   support\n",
            "\n",
            "           0       0.54      0.71      0.61       394\n",
            "           1       0.59      0.41      0.49       406\n",
            "\n",
            "    accuracy                           0.56       800\n",
            "   macro avg       0.57      0.56      0.55       800\n",
            "weighted avg       0.57      0.56      0.55       800\n",
            "\n"
          ]
        }
      ]
    },
    {
      "cell_type": "markdown",
      "source": [
        "Decision Tree model performed  with high bias and low variance"
      ],
      "metadata": {
        "id": "e0wgCaU8rtV8"
      }
    },
    {
      "cell_type": "code",
      "source": [],
      "metadata": {
        "id": "eMe8fb8arr0W"
      },
      "execution_count": null,
      "outputs": []
    },
    {
      "cell_type": "markdown",
      "source": [
        "AdaBoost Classifier\n"
      ],
      "metadata": {
        "id": "WifJj2AKAXRA"
      }
    },
    {
      "cell_type": "code",
      "source": [
        "ada_clf = AdaBoostClassifier(base_estimator=DecisionTreeClassifier(max_depth=4), n_estimators=4, random_state=42)\n",
        "ada_clf.fit(X_train, y_train)\n",
        "pred_train_adb= ada_clf.predict(X_train)\n",
        "pred_test_adb = ada_clf.predict(X_test)"
      ],
      "metadata": {
        "id": "ylvcjJhJxWmQ",
        "colab": {
          "base_uri": "https://localhost:8080/"
        },
        "outputId": "62339612-ad9a-40df-8f8e-fa30471b41b6"
      },
      "execution_count": null,
      "outputs": [
        {
          "output_type": "stream",
          "name": "stderr",
          "text": [
            "/usr/local/lib/python3.9/dist-packages/sklearn/ensemble/_base.py:166: FutureWarning: `base_estimator` was renamed to `estimator` in version 1.2 and will be removed in 1.4.\n",
            "  warnings.warn(\n"
          ]
        }
      ]
    },
    {
      "cell_type": "code",
      "source": [
        "acc_report(y_train,pred_train_adb)"
      ],
      "metadata": {
        "id": "l_eek48TxXcD",
        "colab": {
          "base_uri": "https://localhost:8080/"
        },
        "outputId": "b97f7687-975a-4a5b-90ed-c717ef0ae855"
      },
      "execution_count": null,
      "outputs": [
        {
          "output_type": "stream",
          "name": "stdout",
          "text": [
            "The accuracy is  0.69\n",
            "[[1188  416]\n",
            " [ 567 1025]]\n",
            "              precision    recall  f1-score   support\n",
            "\n",
            "           0       0.68      0.74      0.71      1604\n",
            "           1       0.71      0.64      0.68      1592\n",
            "\n",
            "    accuracy                           0.69      3196\n",
            "   macro avg       0.69      0.69      0.69      3196\n",
            "weighted avg       0.69      0.69      0.69      3196\n",
            "\n"
          ]
        }
      ]
    },
    {
      "cell_type": "code",
      "source": [
        "acc_report(y_test,pred_test_adb)"
      ],
      "metadata": {
        "id": "03_YughFxroz",
        "colab": {
          "base_uri": "https://localhost:8080/"
        },
        "outputId": "4ae6e707-d993-4326-a630-8ae6de089d7c"
      },
      "execution_count": null,
      "outputs": [
        {
          "output_type": "stream",
          "name": "stdout",
          "text": [
            "The accuracy is  0.67\n",
            "[[267 127]\n",
            " [140 266]]\n",
            "              precision    recall  f1-score   support\n",
            "\n",
            "           0       0.66      0.68      0.67       394\n",
            "           1       0.68      0.66      0.67       406\n",
            "\n",
            "    accuracy                           0.67       800\n",
            "   macro avg       0.67      0.67      0.67       800\n",
            "weighted avg       0.67      0.67      0.67       800\n",
            "\n"
          ]
        }
      ]
    },
    {
      "cell_type": "markdown",
      "source": [
        "AdaBoost model performed with high bias and low variance"
      ],
      "metadata": {
        "id": "NME8MC7Ksvz6"
      }
    },
    {
      "cell_type": "markdown",
      "source": [
        " XG Boost Classifier"
      ],
      "metadata": {
        "id": "oY5mzZwWBKPg"
      }
    },
    {
      "cell_type": "code",
      "source": [
        "xgb = XGBClassifier(se_estimator=DecisionTreeClassifier(max_depth=4), n_estimators=7,randamstate=42)\n",
        "xgb.fit(X_train, y_train)\n",
        "y_pred_train_xgb = xgb.predict(X_train)\n",
        "y_pred_test_xgb = xgb.predict(X_test)"
      ],
      "metadata": {
        "id": "shMLHbF9BHo7",
        "colab": {
          "base_uri": "https://localhost:8080/"
        },
        "outputId": "766a3f11-ad70-47e2-a9ef-4045690ba876"
      },
      "execution_count": null,
      "outputs": [
        {
          "output_type": "stream",
          "name": "stdout",
          "text": [
            "[11:31:56] WARNING: ../src/learner.cc:767: \n",
            "Parameters: { \"randamstate\", \"se_estimator\" } are not used.\n",
            "\n"
          ]
        }
      ]
    },
    {
      "cell_type": "code",
      "source": [
        "acc_report(y_train,y_pred_train_xgb)"
      ],
      "metadata": {
        "id": "3ky-dhDABk0X",
        "colab": {
          "base_uri": "https://localhost:8080/"
        },
        "outputId": "35352f0e-77f4-493f-9152-e37e512eb375"
      },
      "execution_count": null,
      "outputs": [
        {
          "output_type": "stream",
          "name": "stdout",
          "text": [
            "The accuracy is  0.77\n",
            "[[1270  334]\n",
            " [ 399 1193]]\n",
            "              precision    recall  f1-score   support\n",
            "\n",
            "           0       0.76      0.79      0.78      1604\n",
            "           1       0.78      0.75      0.76      1592\n",
            "\n",
            "    accuracy                           0.77      3196\n",
            "   macro avg       0.77      0.77      0.77      3196\n",
            "weighted avg       0.77      0.77      0.77      3196\n",
            "\n"
          ]
        }
      ]
    },
    {
      "cell_type": "code",
      "source": [
        "acc_report(y_test,y_pred_test_xgb)\n"
      ],
      "metadata": {
        "id": "k6RmcQAeBx5-",
        "colab": {
          "base_uri": "https://localhost:8080/"
        },
        "outputId": "f75411de-56ba-4227-edf7-3ed23b9a418d"
      },
      "execution_count": null,
      "outputs": [
        {
          "output_type": "stream",
          "name": "stdout",
          "text": [
            "The accuracy is  0.66\n",
            "[[259 135]\n",
            " [139 267]]\n",
            "              precision    recall  f1-score   support\n",
            "\n",
            "           0       0.65      0.66      0.65       394\n",
            "           1       0.66      0.66      0.66       406\n",
            "\n",
            "    accuracy                           0.66       800\n",
            "   macro avg       0.66      0.66      0.66       800\n",
            "weighted avg       0.66      0.66      0.66       800\n",
            "\n"
          ]
        }
      ]
    },
    {
      "cell_type": "markdown",
      "source": [
        "XG Boost performed with high bias and high variance"
      ],
      "metadata": {
        "id": "pld_Ks0UtRK_"
      }
    },
    {
      "cell_type": "markdown",
      "source": [
        "KNN Classifier"
      ],
      "metadata": {
        "id": "DhweQ_vndhZX"
      }
    },
    {
      "cell_type": "code",
      "source": [
        "knn=KNeighborsClassifier(n_neighbors=57)\n",
        "knn.fit(X_train,y_train)\n",
        "preds_ytrain_knn=knn.predict(X_train)\n",
        "preds_ytest_knn=knn.predict(X_test)"
      ],
      "metadata": {
        "id": "Qoh-K_8UYmrZ"
      },
      "execution_count": null,
      "outputs": []
    },
    {
      "cell_type": "code",
      "source": [
        "acc_report(y_train,preds_ytrain_knn)\n"
      ],
      "metadata": {
        "id": "RMN5e7CoYrJ3",
        "colab": {
          "base_uri": "https://localhost:8080/"
        },
        "outputId": "8e8b410d-0eda-41e6-bfcd-4a95c9f51c9f"
      },
      "execution_count": null,
      "outputs": [
        {
          "output_type": "stream",
          "name": "stdout",
          "text": [
            "The accuracy is  0.56\n",
            "[[958 646]\n",
            " [764 828]]\n",
            "              precision    recall  f1-score   support\n",
            "\n",
            "           0       0.56      0.60      0.58      1604\n",
            "           1       0.56      0.52      0.54      1592\n",
            "\n",
            "    accuracy                           0.56      3196\n",
            "   macro avg       0.56      0.56      0.56      3196\n",
            "weighted avg       0.56      0.56      0.56      3196\n",
            "\n"
          ]
        }
      ]
    },
    {
      "cell_type": "code",
      "source": [
        "acc_report(y_test,preds_ytest_knn)"
      ],
      "metadata": {
        "id": "VFKdEY8oY3ij",
        "colab": {
          "base_uri": "https://localhost:8080/"
        },
        "outputId": "0c0db7b3-a2b9-487d-f458-fddcdcb9419d"
      },
      "execution_count": null,
      "outputs": [
        {
          "output_type": "stream",
          "name": "stdout",
          "text": [
            "The accuracy is  0.51\n",
            "[[225 169]\n",
            " [225 181]]\n",
            "              precision    recall  f1-score   support\n",
            "\n",
            "           0       0.50      0.57      0.53       394\n",
            "           1       0.52      0.45      0.48       406\n",
            "\n",
            "    accuracy                           0.51       800\n",
            "   macro avg       0.51      0.51      0.51       800\n",
            "weighted avg       0.51      0.51      0.51       800\n",
            "\n"
          ]
        }
      ]
    },
    {
      "cell_type": "markdown",
      "source": [
        "KNN performed with high bias and low variance"
      ],
      "metadata": {
        "id": "8HQcDBr6tkPJ"
      }
    },
    {
      "cell_type": "markdown",
      "source": [
        "Naive Bayes GaussianNB"
      ],
      "metadata": {
        "id": "138tWhfYd74k"
      }
    },
    {
      "cell_type": "code",
      "source": [
        "gb=GaussianNB()\n",
        "gb.fit(X_train,y_train)\n",
        "preds_train_gb=gb.predict(X_train)\n",
        "preds_test_gb=gb.predict(X_test)"
      ],
      "metadata": {
        "id": "mFTVdMgnbtbw"
      },
      "execution_count": null,
      "outputs": []
    },
    {
      "cell_type": "code",
      "source": [
        "acc_report(y_train,preds_train_gb)"
      ],
      "metadata": {
        "id": "aLYR4Se_cU2v",
        "colab": {
          "base_uri": "https://localhost:8080/"
        },
        "outputId": "0c354b54-251d-496c-fdd0-f83ffb012154"
      },
      "execution_count": null,
      "outputs": [
        {
          "output_type": "stream",
          "name": "stdout",
          "text": [
            "The accuracy is  0.56\n",
            "[[1001  603]\n",
            " [ 791  801]]\n",
            "              precision    recall  f1-score   support\n",
            "\n",
            "           0       0.56      0.62      0.59      1604\n",
            "           1       0.57      0.50      0.53      1592\n",
            "\n",
            "    accuracy                           0.56      3196\n",
            "   macro avg       0.56      0.56      0.56      3196\n",
            "weighted avg       0.56      0.56      0.56      3196\n",
            "\n"
          ]
        }
      ]
    },
    {
      "cell_type": "code",
      "source": [
        "acc_report(y_test,preds_test_gb)"
      ],
      "metadata": {
        "id": "uFRE9yC-cpuI",
        "colab": {
          "base_uri": "https://localhost:8080/"
        },
        "outputId": "4b0cea05-3d1c-484b-8448-d6fe96db3422"
      },
      "execution_count": null,
      "outputs": [
        {
          "output_type": "stream",
          "name": "stdout",
          "text": [
            "The accuracy is  0.54\n",
            "[[241 153]\n",
            " [219 187]]\n",
            "              precision    recall  f1-score   support\n",
            "\n",
            "           0       0.52      0.61      0.56       394\n",
            "           1       0.55      0.46      0.50       406\n",
            "\n",
            "    accuracy                           0.54       800\n",
            "   macro avg       0.54      0.54      0.53       800\n",
            "weighted avg       0.54      0.54      0.53       800\n",
            "\n"
          ]
        }
      ]
    },
    {
      "cell_type": "markdown",
      "source": [
        "The performed with high bias and low variance"
      ],
      "metadata": {
        "id": "_S2sYuzhtxvK"
      }
    },
    {
      "cell_type": "markdown",
      "source": [
        "Support Vector Machines (SVM)"
      ],
      "metadata": {
        "id": "qZlGkcpdYhPZ"
      }
    },
    {
      "cell_type": "code",
      "source": [
        "svc=SVC(kernel='rbf',degree=4)\n",
        "svc.fit(X_train,y_train)\n",
        "svc_preds_train=svc.predict(X_train)\n",
        "svc_preds_test=svc.predict(X_test)"
      ],
      "metadata": {
        "id": "aA6QneGPpteA"
      },
      "execution_count": null,
      "outputs": []
    },
    {
      "cell_type": "code",
      "source": [
        "acc_report(y_train,svc_preds_train)"
      ],
      "metadata": {
        "id": "rOulxnI39B9m",
        "colab": {
          "base_uri": "https://localhost:8080/"
        },
        "outputId": "9d07fe7f-fefe-47b2-cc6d-ea239f28ea5f"
      },
      "execution_count": null,
      "outputs": [
        {
          "output_type": "stream",
          "name": "stdout",
          "text": [
            "The accuracy is  0.52\n",
            "[[1271  333]\n",
            " [1214  378]]\n",
            "              precision    recall  f1-score   support\n",
            "\n",
            "           0       0.51      0.79      0.62      1604\n",
            "           1       0.53      0.24      0.33      1592\n",
            "\n",
            "    accuracy                           0.52      3196\n",
            "   macro avg       0.52      0.51      0.47      3196\n",
            "weighted avg       0.52      0.52      0.48      3196\n",
            "\n"
          ]
        }
      ]
    },
    {
      "cell_type": "code",
      "source": [
        "acc_report(y_test,svc_preds_test)"
      ],
      "metadata": {
        "id": "fmsuurHR9D9t",
        "colab": {
          "base_uri": "https://localhost:8080/"
        },
        "outputId": "66352e44-e378-408d-d39b-e132d9c60b46"
      },
      "execution_count": null,
      "outputs": [
        {
          "output_type": "stream",
          "name": "stdout",
          "text": [
            "The accuracy is  0.52\n",
            "[[321  73]\n",
            " [314  92]]\n",
            "              precision    recall  f1-score   support\n",
            "\n",
            "           0       0.51      0.81      0.62       394\n",
            "           1       0.56      0.23      0.32       406\n",
            "\n",
            "    accuracy                           0.52       800\n",
            "   macro avg       0.53      0.52      0.47       800\n",
            "weighted avg       0.53      0.52      0.47       800\n",
            "\n"
          ]
        }
      ]
    },
    {
      "cell_type": "markdown",
      "source": [
        "SVM performed with high bias and low variance"
      ],
      "metadata": {
        "id": "_eYvcPA0t9My"
      }
    },
    {
      "cell_type": "markdown",
      "source": [
        "Comparison of Classification Models: All models has High bias it is not good, compare to other model AdaBoost had the highest accuracy of 0.69, with precision, recall, and F1-score values of 0.71, 0.74, and 0.71, respectively. The second-best model was Naive Bayes, with an accuracy of 56 and precision, recall, and F1-score values of 0.56, 062, and 0.59.   In general, AdaBoost was the best-performing model, producing the highest accuracy and the highest precision, recall, and F1-score values compare to other models. "
      ],
      "metadata": {
        "id": "aWlNhsU_vNUl"
      }
    }
  ]
}